{
 "cells": [
  {
   "cell_type": "code",
   "execution_count": null,
   "metadata": {},
   "outputs": [],
   "source": [
    "import numpy as np\n",
    "from sklearn.metrics.pairwise import cosine_similarity\n",
    "from scipy.stats import pearsonr\n",
    "\n",
    "# Example matrices\n",
    "A = np.array([[1, 2, 3], [4, 5, 6]])\n",
    "B = np.array([[7, 8, 9], [10, 11, 12]])\n",
    "\n",
    "# Calculate cosine similarity between all rows of the matrices\n",
    "cos_sim = cosine_similarity(A, B)\n",
    "print(\"Cosine Similarity:\\n\", cos_sim)\n",
    "\n",
    "# Calculate Pearson correlation coefficient between the flattened forms of the matrices\n",
    "A_flat = A.flatten()\n",
    "B_flat = B.flatten()\n",
    "pearson_corr, p_value = pearsonr(A_flat, B_flat)\n",
    "\n",
    "print(\"Pearson Correlation Coefficient:\", pearson_corr)\n",
    "print(\"P-value:\", p_value)\n"
   ]
  }
 ],
 "metadata": {
  "language_info": {
   "name": "python"
  }
 },
 "nbformat": 4,
 "nbformat_minor": 2
}
